{
 "cells": [
  {
   "cell_type": "markdown",
   "metadata": {
    "_uuid": "5c1cf98b27027fbb3e184bcb33f00f68e451fde1"
   },
   "source": [
    "Importing Libraries"
   ]
  },
  {
   "cell_type": "code",
   "execution_count": 1,
   "metadata": {
    "_cell_guid": "79c7e3d0-c299-4dcb-8224-4455121ee9b0",
    "_uuid": "d629ff2d2480ee46fbb7e2d37f6b5fab8052498a"
   },
   "outputs": [],
   "source": [
    "import numpy as np\n",
    "import pandas as pd\n",
    "import matplotlib\n",
    "import matplotlib.pyplot as plt\n",
    "import seaborn as sns\n",
    "sns.set(rc={'figure.figsize':(10, 8)}); "
   ]
  },
  {
   "cell_type": "markdown",
   "metadata": {
    "_uuid": "0e1d693518697c69207ab79b1d92da9ba4e4300e"
   },
   "source": [
    "Loading the dataset"
   ]
  },
  {
   "cell_type": "code",
   "execution_count": 3,
   "metadata": {
    "_uuid": "0e3d97c1c797a6cc483e548ae057e70d043a8aa0"
   },
   "outputs": [
    {
     "data": {
      "text/html": [
       "<div>\n",
       "<style scoped>\n",
       "    .dataframe tbody tr th:only-of-type {\n",
       "        vertical-align: middle;\n",
       "    }\n",
       "\n",
       "    .dataframe tbody tr th {\n",
       "        vertical-align: top;\n",
       "    }\n",
       "\n",
       "    .dataframe thead th {\n",
       "        text-align: right;\n",
       "    }\n",
       "</style>\n",
       "<table border=\"1\" class=\"dataframe\">\n",
       "  <thead>\n",
       "    <tr style=\"text-align: right;\">\n",
       "      <th></th>\n",
       "      <th>0</th>\n",
       "      <th>1</th>\n",
       "      <th>2</th>\n",
       "      <th>3</th>\n",
       "      <th>4</th>\n",
       "      <th>5</th>\n",
       "      <th>6</th>\n",
       "      <th>7</th>\n",
       "      <th>8</th>\n",
       "      <th>9</th>\n",
       "    </tr>\n",
       "  </thead>\n",
       "  <tbody>\n",
       "    <tr>\n",
       "      <th>Restaurant ID</th>\n",
       "      <td>6317637</td>\n",
       "      <td>6304287</td>\n",
       "      <td>6300002</td>\n",
       "      <td>6318506</td>\n",
       "      <td>6314302</td>\n",
       "      <td>18189371</td>\n",
       "      <td>6300781</td>\n",
       "      <td>6301290</td>\n",
       "      <td>6300010</td>\n",
       "      <td>6314987</td>\n",
       "    </tr>\n",
       "    <tr>\n",
       "      <th>Restaurant Name</th>\n",
       "      <td>Le Petit Souffle</td>\n",
       "      <td>Izakaya Kikufuji</td>\n",
       "      <td>Heat - Edsa Shangri-La</td>\n",
       "      <td>Ooma</td>\n",
       "      <td>Sambo Kojin</td>\n",
       "      <td>Din Tai Fung</td>\n",
       "      <td>Buffet 101</td>\n",
       "      <td>Vikings</td>\n",
       "      <td>Spiral - Sofitel Philippine Plaza Manila</td>\n",
       "      <td>Locavore</td>\n",
       "    </tr>\n",
       "    <tr>\n",
       "      <th>Country Code</th>\n",
       "      <td>162</td>\n",
       "      <td>162</td>\n",
       "      <td>162</td>\n",
       "      <td>162</td>\n",
       "      <td>162</td>\n",
       "      <td>162</td>\n",
       "      <td>162</td>\n",
       "      <td>162</td>\n",
       "      <td>162</td>\n",
       "      <td>162</td>\n",
       "    </tr>\n",
       "    <tr>\n",
       "      <th>City</th>\n",
       "      <td>Makati City</td>\n",
       "      <td>Makati City</td>\n",
       "      <td>Mandaluyong City</td>\n",
       "      <td>Mandaluyong City</td>\n",
       "      <td>Mandaluyong City</td>\n",
       "      <td>Mandaluyong City</td>\n",
       "      <td>Pasay City</td>\n",
       "      <td>Pasay City</td>\n",
       "      <td>Pasay City</td>\n",
       "      <td>Pasig City</td>\n",
       "    </tr>\n",
       "    <tr>\n",
       "      <th>Address</th>\n",
       "      <td>Third Floor, Century City Mall, Kalayaan Avenu...</td>\n",
       "      <td>Little Tokyo, 2277 Chino Roces Avenue, Legaspi...</td>\n",
       "      <td>Edsa Shangri-La, 1 Garden Way, Ortigas, Mandal...</td>\n",
       "      <td>Third Floor, Mega Fashion Hall, SM Megamall, O...</td>\n",
       "      <td>Third Floor, Mega Atrium, SM Megamall, Ortigas...</td>\n",
       "      <td>Ground Floor, Mega Fashion Hall, SM Megamall, ...</td>\n",
       "      <td>Building K, SM By The Bay, Sunset Boulevard, M...</td>\n",
       "      <td>Building B, By The Bay, Seaside Boulevard, Mal...</td>\n",
       "      <td>Plaza Level, Sofitel Philippine Plaza Manila, ...</td>\n",
       "      <td>Brixton Technology Center, 10 Brixton Street, ...</td>\n",
       "    </tr>\n",
       "    <tr>\n",
       "      <th>Locality</th>\n",
       "      <td>Century City Mall, Poblacion, Makati City</td>\n",
       "      <td>Little Tokyo, Legaspi Village, Makati City</td>\n",
       "      <td>Edsa Shangri-La, Ortigas, Mandaluyong City</td>\n",
       "      <td>SM Megamall, Ortigas, Mandaluyong City</td>\n",
       "      <td>SM Megamall, Ortigas, Mandaluyong City</td>\n",
       "      <td>SM Megamall, Ortigas, Mandaluyong City</td>\n",
       "      <td>SM by the Bay, Mall of Asia Complex, Pasay City</td>\n",
       "      <td>SM by the Bay, Mall of Asia Complex, Pasay City</td>\n",
       "      <td>Sofitel Philippine Plaza Manila, Pasay City</td>\n",
       "      <td>Kapitolyo</td>\n",
       "    </tr>\n",
       "    <tr>\n",
       "      <th>Locality Verbose</th>\n",
       "      <td>Century City Mall, Poblacion, Makati City, Mak...</td>\n",
       "      <td>Little Tokyo, Legaspi Village, Makati City, Ma...</td>\n",
       "      <td>Edsa Shangri-La, Ortigas, Mandaluyong City, Ma...</td>\n",
       "      <td>SM Megamall, Ortigas, Mandaluyong City, Mandal...</td>\n",
       "      <td>SM Megamall, Ortigas, Mandaluyong City, Mandal...</td>\n",
       "      <td>SM Megamall, Ortigas, Mandaluyong City, Mandal...</td>\n",
       "      <td>SM by the Bay, Mall of Asia Complex, Pasay Cit...</td>\n",
       "      <td>SM by the Bay, Mall of Asia Complex, Pasay Cit...</td>\n",
       "      <td>Sofitel Philippine Plaza Manila, Pasay City, P...</td>\n",
       "      <td>Kapitolyo, Pasig City</td>\n",
       "    </tr>\n",
       "    <tr>\n",
       "      <th>Longitude</th>\n",
       "      <td>121.028</td>\n",
       "      <td>121.014</td>\n",
       "      <td>121.057</td>\n",
       "      <td>121.056</td>\n",
       "      <td>121.058</td>\n",
       "      <td>121.056</td>\n",
       "      <td>120.98</td>\n",
       "      <td>120.979</td>\n",
       "      <td>120.98</td>\n",
       "      <td>121.057</td>\n",
       "    </tr>\n",
       "    <tr>\n",
       "      <th>Latitude</th>\n",
       "      <td>14.5654</td>\n",
       "      <td>14.5537</td>\n",
       "      <td>14.5814</td>\n",
       "      <td>14.5853</td>\n",
       "      <td>14.5845</td>\n",
       "      <td>14.5838</td>\n",
       "      <td>14.5313</td>\n",
       "      <td>14.54</td>\n",
       "      <td>14.553</td>\n",
       "      <td>14.572</td>\n",
       "    </tr>\n",
       "    <tr>\n",
       "      <th>Cuisines</th>\n",
       "      <td>French, Japanese, Desserts</td>\n",
       "      <td>Japanese</td>\n",
       "      <td>Seafood, Asian, Filipino, Indian</td>\n",
       "      <td>Japanese, Sushi</td>\n",
       "      <td>Japanese, Korean</td>\n",
       "      <td>Chinese</td>\n",
       "      <td>Asian, European</td>\n",
       "      <td>Seafood, Filipino, Asian, European</td>\n",
       "      <td>European, Asian, Indian</td>\n",
       "      <td>Filipino</td>\n",
       "    </tr>\n",
       "    <tr>\n",
       "      <th>Average Cost for two</th>\n",
       "      <td>1100</td>\n",
       "      <td>1200</td>\n",
       "      <td>4000</td>\n",
       "      <td>1500</td>\n",
       "      <td>1500</td>\n",
       "      <td>1000</td>\n",
       "      <td>2000</td>\n",
       "      <td>2000</td>\n",
       "      <td>6000</td>\n",
       "      <td>1100</td>\n",
       "    </tr>\n",
       "    <tr>\n",
       "      <th>Currency</th>\n",
       "      <td>Botswana Pula(P)</td>\n",
       "      <td>Botswana Pula(P)</td>\n",
       "      <td>Botswana Pula(P)</td>\n",
       "      <td>Botswana Pula(P)</td>\n",
       "      <td>Botswana Pula(P)</td>\n",
       "      <td>Botswana Pula(P)</td>\n",
       "      <td>Botswana Pula(P)</td>\n",
       "      <td>Botswana Pula(P)</td>\n",
       "      <td>Botswana Pula(P)</td>\n",
       "      <td>Botswana Pula(P)</td>\n",
       "    </tr>\n",
       "    <tr>\n",
       "      <th>Has Table booking</th>\n",
       "      <td>Yes</td>\n",
       "      <td>Yes</td>\n",
       "      <td>Yes</td>\n",
       "      <td>No</td>\n",
       "      <td>Yes</td>\n",
       "      <td>No</td>\n",
       "      <td>Yes</td>\n",
       "      <td>Yes</td>\n",
       "      <td>Yes</td>\n",
       "      <td>Yes</td>\n",
       "    </tr>\n",
       "    <tr>\n",
       "      <th>Has Online delivery</th>\n",
       "      <td>No</td>\n",
       "      <td>No</td>\n",
       "      <td>No</td>\n",
       "      <td>No</td>\n",
       "      <td>No</td>\n",
       "      <td>No</td>\n",
       "      <td>No</td>\n",
       "      <td>No</td>\n",
       "      <td>No</td>\n",
       "      <td>No</td>\n",
       "    </tr>\n",
       "    <tr>\n",
       "      <th>Is delivering now</th>\n",
       "      <td>No</td>\n",
       "      <td>No</td>\n",
       "      <td>No</td>\n",
       "      <td>No</td>\n",
       "      <td>No</td>\n",
       "      <td>No</td>\n",
       "      <td>No</td>\n",
       "      <td>No</td>\n",
       "      <td>No</td>\n",
       "      <td>No</td>\n",
       "    </tr>\n",
       "    <tr>\n",
       "      <th>Switch to order menu</th>\n",
       "      <td>No</td>\n",
       "      <td>No</td>\n",
       "      <td>No</td>\n",
       "      <td>No</td>\n",
       "      <td>No</td>\n",
       "      <td>No</td>\n",
       "      <td>No</td>\n",
       "      <td>No</td>\n",
       "      <td>No</td>\n",
       "      <td>No</td>\n",
       "    </tr>\n",
       "    <tr>\n",
       "      <th>Price range</th>\n",
       "      <td>3</td>\n",
       "      <td>3</td>\n",
       "      <td>4</td>\n",
       "      <td>4</td>\n",
       "      <td>4</td>\n",
       "      <td>3</td>\n",
       "      <td>4</td>\n",
       "      <td>4</td>\n",
       "      <td>4</td>\n",
       "      <td>3</td>\n",
       "    </tr>\n",
       "    <tr>\n",
       "      <th>Aggregate rating</th>\n",
       "      <td>4.8</td>\n",
       "      <td>4.5</td>\n",
       "      <td>4.4</td>\n",
       "      <td>4.9</td>\n",
       "      <td>4.8</td>\n",
       "      <td>4.4</td>\n",
       "      <td>4</td>\n",
       "      <td>4.2</td>\n",
       "      <td>4.9</td>\n",
       "      <td>4.8</td>\n",
       "    </tr>\n",
       "    <tr>\n",
       "      <th>Rating color</th>\n",
       "      <td>Dark Green</td>\n",
       "      <td>Dark Green</td>\n",
       "      <td>Green</td>\n",
       "      <td>Dark Green</td>\n",
       "      <td>Dark Green</td>\n",
       "      <td>Green</td>\n",
       "      <td>Green</td>\n",
       "      <td>Green</td>\n",
       "      <td>Dark Green</td>\n",
       "      <td>Dark Green</td>\n",
       "    </tr>\n",
       "    <tr>\n",
       "      <th>Rating text</th>\n",
       "      <td>Excellent</td>\n",
       "      <td>Excellent</td>\n",
       "      <td>Very Good</td>\n",
       "      <td>Excellent</td>\n",
       "      <td>Excellent</td>\n",
       "      <td>Very Good</td>\n",
       "      <td>Very Good</td>\n",
       "      <td>Very Good</td>\n",
       "      <td>Excellent</td>\n",
       "      <td>Excellent</td>\n",
       "    </tr>\n",
       "    <tr>\n",
       "      <th>Votes</th>\n",
       "      <td>314</td>\n",
       "      <td>591</td>\n",
       "      <td>270</td>\n",
       "      <td>365</td>\n",
       "      <td>229</td>\n",
       "      <td>336</td>\n",
       "      <td>520</td>\n",
       "      <td>677</td>\n",
       "      <td>621</td>\n",
       "      <td>532</td>\n",
       "    </tr>\n",
       "    <tr>\n",
       "      <th>Country</th>\n",
       "      <td>Phillipines</td>\n",
       "      <td>Phillipines</td>\n",
       "      <td>Phillipines</td>\n",
       "      <td>Phillipines</td>\n",
       "      <td>Phillipines</td>\n",
       "      <td>Phillipines</td>\n",
       "      <td>Phillipines</td>\n",
       "      <td>Phillipines</td>\n",
       "      <td>Phillipines</td>\n",
       "      <td>Phillipines</td>\n",
       "    </tr>\n",
       "  </tbody>\n",
       "</table>\n",
       "</div>"
      ],
      "text/plain": [
       "                                                                      0  \\\n",
       "Restaurant ID                                                   6317637   \n",
       "Restaurant Name                                        Le Petit Souffle   \n",
       "Country Code                                                        162   \n",
       "City                                                        Makati City   \n",
       "Address               Third Floor, Century City Mall, Kalayaan Avenu...   \n",
       "Locality                      Century City Mall, Poblacion, Makati City   \n",
       "Locality Verbose      Century City Mall, Poblacion, Makati City, Mak...   \n",
       "Longitude                                                       121.028   \n",
       "Latitude                                                        14.5654   \n",
       "Cuisines                                     French, Japanese, Desserts   \n",
       "Average Cost for two                                               1100   \n",
       "Currency                                               Botswana Pula(P)   \n",
       "Has Table booking                                                   Yes   \n",
       "Has Online delivery                                                  No   \n",
       "Is delivering now                                                    No   \n",
       "Switch to order menu                                                 No   \n",
       "Price range                                                           3   \n",
       "Aggregate rating                                                    4.8   \n",
       "Rating color                                                 Dark Green   \n",
       "Rating text                                                   Excellent   \n",
       "Votes                                                               314   \n",
       "Country                                                     Phillipines   \n",
       "\n",
       "                                                                      1  \\\n",
       "Restaurant ID                                                   6304287   \n",
       "Restaurant Name                                        Izakaya Kikufuji   \n",
       "Country Code                                                        162   \n",
       "City                                                        Makati City   \n",
       "Address               Little Tokyo, 2277 Chino Roces Avenue, Legaspi...   \n",
       "Locality                     Little Tokyo, Legaspi Village, Makati City   \n",
       "Locality Verbose      Little Tokyo, Legaspi Village, Makati City, Ma...   \n",
       "Longitude                                                       121.014   \n",
       "Latitude                                                        14.5537   \n",
       "Cuisines                                                       Japanese   \n",
       "Average Cost for two                                               1200   \n",
       "Currency                                               Botswana Pula(P)   \n",
       "Has Table booking                                                   Yes   \n",
       "Has Online delivery                                                  No   \n",
       "Is delivering now                                                    No   \n",
       "Switch to order menu                                                 No   \n",
       "Price range                                                           3   \n",
       "Aggregate rating                                                    4.5   \n",
       "Rating color                                                 Dark Green   \n",
       "Rating text                                                   Excellent   \n",
       "Votes                                                               591   \n",
       "Country                                                     Phillipines   \n",
       "\n",
       "                                                                      2  \\\n",
       "Restaurant ID                                                   6300002   \n",
       "Restaurant Name                                  Heat - Edsa Shangri-La   \n",
       "Country Code                                                        162   \n",
       "City                                                   Mandaluyong City   \n",
       "Address               Edsa Shangri-La, 1 Garden Way, Ortigas, Mandal...   \n",
       "Locality                     Edsa Shangri-La, Ortigas, Mandaluyong City   \n",
       "Locality Verbose      Edsa Shangri-La, Ortigas, Mandaluyong City, Ma...   \n",
       "Longitude                                                       121.057   \n",
       "Latitude                                                        14.5814   \n",
       "Cuisines                               Seafood, Asian, Filipino, Indian   \n",
       "Average Cost for two                                               4000   \n",
       "Currency                                               Botswana Pula(P)   \n",
       "Has Table booking                                                   Yes   \n",
       "Has Online delivery                                                  No   \n",
       "Is delivering now                                                    No   \n",
       "Switch to order menu                                                 No   \n",
       "Price range                                                           4   \n",
       "Aggregate rating                                                    4.4   \n",
       "Rating color                                                      Green   \n",
       "Rating text                                                   Very Good   \n",
       "Votes                                                               270   \n",
       "Country                                                     Phillipines   \n",
       "\n",
       "                                                                      3  \\\n",
       "Restaurant ID                                                   6318506   \n",
       "Restaurant Name                                                    Ooma   \n",
       "Country Code                                                        162   \n",
       "City                                                   Mandaluyong City   \n",
       "Address               Third Floor, Mega Fashion Hall, SM Megamall, O...   \n",
       "Locality                         SM Megamall, Ortigas, Mandaluyong City   \n",
       "Locality Verbose      SM Megamall, Ortigas, Mandaluyong City, Mandal...   \n",
       "Longitude                                                       121.056   \n",
       "Latitude                                                        14.5853   \n",
       "Cuisines                                                Japanese, Sushi   \n",
       "Average Cost for two                                               1500   \n",
       "Currency                                               Botswana Pula(P)   \n",
       "Has Table booking                                                    No   \n",
       "Has Online delivery                                                  No   \n",
       "Is delivering now                                                    No   \n",
       "Switch to order menu                                                 No   \n",
       "Price range                                                           4   \n",
       "Aggregate rating                                                    4.9   \n",
       "Rating color                                                 Dark Green   \n",
       "Rating text                                                   Excellent   \n",
       "Votes                                                               365   \n",
       "Country                                                     Phillipines   \n",
       "\n",
       "                                                                      4  \\\n",
       "Restaurant ID                                                   6314302   \n",
       "Restaurant Name                                             Sambo Kojin   \n",
       "Country Code                                                        162   \n",
       "City                                                   Mandaluyong City   \n",
       "Address               Third Floor, Mega Atrium, SM Megamall, Ortigas...   \n",
       "Locality                         SM Megamall, Ortigas, Mandaluyong City   \n",
       "Locality Verbose      SM Megamall, Ortigas, Mandaluyong City, Mandal...   \n",
       "Longitude                                                       121.058   \n",
       "Latitude                                                        14.5845   \n",
       "Cuisines                                               Japanese, Korean   \n",
       "Average Cost for two                                               1500   \n",
       "Currency                                               Botswana Pula(P)   \n",
       "Has Table booking                                                   Yes   \n",
       "Has Online delivery                                                  No   \n",
       "Is delivering now                                                    No   \n",
       "Switch to order menu                                                 No   \n",
       "Price range                                                           4   \n",
       "Aggregate rating                                                    4.8   \n",
       "Rating color                                                 Dark Green   \n",
       "Rating text                                                   Excellent   \n",
       "Votes                                                               229   \n",
       "Country                                                     Phillipines   \n",
       "\n",
       "                                                                      5  \\\n",
       "Restaurant ID                                                  18189371   \n",
       "Restaurant Name                                            Din Tai Fung   \n",
       "Country Code                                                        162   \n",
       "City                                                   Mandaluyong City   \n",
       "Address               Ground Floor, Mega Fashion Hall, SM Megamall, ...   \n",
       "Locality                         SM Megamall, Ortigas, Mandaluyong City   \n",
       "Locality Verbose      SM Megamall, Ortigas, Mandaluyong City, Mandal...   \n",
       "Longitude                                                       121.056   \n",
       "Latitude                                                        14.5838   \n",
       "Cuisines                                                        Chinese   \n",
       "Average Cost for two                                               1000   \n",
       "Currency                                               Botswana Pula(P)   \n",
       "Has Table booking                                                    No   \n",
       "Has Online delivery                                                  No   \n",
       "Is delivering now                                                    No   \n",
       "Switch to order menu                                                 No   \n",
       "Price range                                                           3   \n",
       "Aggregate rating                                                    4.4   \n",
       "Rating color                                                      Green   \n",
       "Rating text                                                   Very Good   \n",
       "Votes                                                               336   \n",
       "Country                                                     Phillipines   \n",
       "\n",
       "                                                                      6  \\\n",
       "Restaurant ID                                                   6300781   \n",
       "Restaurant Name                                              Buffet 101   \n",
       "Country Code                                                        162   \n",
       "City                                                         Pasay City   \n",
       "Address               Building K, SM By The Bay, Sunset Boulevard, M...   \n",
       "Locality                SM by the Bay, Mall of Asia Complex, Pasay City   \n",
       "Locality Verbose      SM by the Bay, Mall of Asia Complex, Pasay Cit...   \n",
       "Longitude                                                        120.98   \n",
       "Latitude                                                        14.5313   \n",
       "Cuisines                                                Asian, European   \n",
       "Average Cost for two                                               2000   \n",
       "Currency                                               Botswana Pula(P)   \n",
       "Has Table booking                                                   Yes   \n",
       "Has Online delivery                                                  No   \n",
       "Is delivering now                                                    No   \n",
       "Switch to order menu                                                 No   \n",
       "Price range                                                           4   \n",
       "Aggregate rating                                                      4   \n",
       "Rating color                                                      Green   \n",
       "Rating text                                                   Very Good   \n",
       "Votes                                                               520   \n",
       "Country                                                     Phillipines   \n",
       "\n",
       "                                                                      7  \\\n",
       "Restaurant ID                                                   6301290   \n",
       "Restaurant Name                                                 Vikings   \n",
       "Country Code                                                        162   \n",
       "City                                                         Pasay City   \n",
       "Address               Building B, By The Bay, Seaside Boulevard, Mal...   \n",
       "Locality                SM by the Bay, Mall of Asia Complex, Pasay City   \n",
       "Locality Verbose      SM by the Bay, Mall of Asia Complex, Pasay Cit...   \n",
       "Longitude                                                       120.979   \n",
       "Latitude                                                          14.54   \n",
       "Cuisines                             Seafood, Filipino, Asian, European   \n",
       "Average Cost for two                                               2000   \n",
       "Currency                                               Botswana Pula(P)   \n",
       "Has Table booking                                                   Yes   \n",
       "Has Online delivery                                                  No   \n",
       "Is delivering now                                                    No   \n",
       "Switch to order menu                                                 No   \n",
       "Price range                                                           4   \n",
       "Aggregate rating                                                    4.2   \n",
       "Rating color                                                      Green   \n",
       "Rating text                                                   Very Good   \n",
       "Votes                                                               677   \n",
       "Country                                                     Phillipines   \n",
       "\n",
       "                                                                      8  \\\n",
       "Restaurant ID                                                   6300010   \n",
       "Restaurant Name                Spiral - Sofitel Philippine Plaza Manila   \n",
       "Country Code                                                        162   \n",
       "City                                                         Pasay City   \n",
       "Address               Plaza Level, Sofitel Philippine Plaza Manila, ...   \n",
       "Locality                    Sofitel Philippine Plaza Manila, Pasay City   \n",
       "Locality Verbose      Sofitel Philippine Plaza Manila, Pasay City, P...   \n",
       "Longitude                                                        120.98   \n",
       "Latitude                                                         14.553   \n",
       "Cuisines                                        European, Asian, Indian   \n",
       "Average Cost for two                                               6000   \n",
       "Currency                                               Botswana Pula(P)   \n",
       "Has Table booking                                                   Yes   \n",
       "Has Online delivery                                                  No   \n",
       "Is delivering now                                                    No   \n",
       "Switch to order menu                                                 No   \n",
       "Price range                                                           4   \n",
       "Aggregate rating                                                    4.9   \n",
       "Rating color                                                 Dark Green   \n",
       "Rating text                                                   Excellent   \n",
       "Votes                                                               621   \n",
       "Country                                                     Phillipines   \n",
       "\n",
       "                                                                      9  \n",
       "Restaurant ID                                                   6314987  \n",
       "Restaurant Name                                                Locavore  \n",
       "Country Code                                                        162  \n",
       "City                                                         Pasig City  \n",
       "Address               Brixton Technology Center, 10 Brixton Street, ...  \n",
       "Locality                                                      Kapitolyo  \n",
       "Locality Verbose                                  Kapitolyo, Pasig City  \n",
       "Longitude                                                       121.057  \n",
       "Latitude                                                         14.572  \n",
       "Cuisines                                                       Filipino  \n",
       "Average Cost for two                                               1100  \n",
       "Currency                                               Botswana Pula(P)  \n",
       "Has Table booking                                                   Yes  \n",
       "Has Online delivery                                                  No  \n",
       "Is delivering now                                                    No  \n",
       "Switch to order menu                                                 No  \n",
       "Price range                                                           3  \n",
       "Aggregate rating                                                    4.8  \n",
       "Rating color                                                 Dark Green  \n",
       "Rating text                                                   Excellent  \n",
       "Votes                                                               532  \n",
       "Country                                                     Phillipines  "
      ]
     },
     "execution_count": 3,
     "metadata": {},
     "output_type": "execute_result"
    }
   ],
   "source": [
    "df = pd.read_csv('data/zomato.csv',encoding=\"ISO-8859-1\")\n",
    "code_of_country = pd.read_csv('data/Country-Code.csv',encoding = \"ISO-8859-1\")\n",
    "df1 = pd.merge(df, code_of_country, on='Country Code')\n",
    "df1.head(10).T"
   ]
  },
  {
   "cell_type": "markdown",
   "metadata": {},
   "source": [
    "Total Countries in the dataset"
   ]
  },
  {
   "cell_type": "code",
   "execution_count": 4,
   "metadata": {},
   "outputs": [
    {
     "data": {
      "text/plain": [
       "array(['Phillipines', 'Brazil', 'United States', 'Australia', 'Canada',\n",
       "       'Singapore', 'UAE', 'India', 'Indonesia', 'New Zealand',\n",
       "       'United Kingdom', 'Qatar', 'South Africa', 'Sri Lanka', 'Turkey'],\n",
       "      dtype=object)"
      ]
     },
     "execution_count": 4,
     "metadata": {},
     "output_type": "execute_result"
    }
   ],
   "source": [
    "df1['Country'].unique()"
   ]
  },
  {
   "cell_type": "markdown",
   "metadata": {},
   "source": [
    "Counts of all the countries"
   ]
  },
  {
   "cell_type": "code",
   "execution_count": 5,
   "metadata": {},
   "outputs": [
    {
     "data": {
      "text/plain": [
       "India             8652\n",
       "United States      434\n",
       "United Kingdom      80\n",
       "Brazil              60\n",
       "South Africa        60\n",
       "Name: Country, dtype: int64"
      ]
     },
     "execution_count": 5,
     "metadata": {},
     "output_type": "execute_result"
    }
   ],
   "source": [
    "df1['Country'].value_counts().head(5)"
   ]
  },
  {
   "cell_type": "markdown",
   "metadata": {},
   "source": [
    "Count of all the Cities"
   ]
  },
  {
   "cell_type": "code",
   "execution_count": 6,
   "metadata": {},
   "outputs": [
    {
     "data": {
      "text/plain": [
       "array(['Makati City', 'Mandaluyong City', 'Pasay City', 'Pasig City',\n",
       "       'Quezon City', 'San Juan City', 'Santa Rosa', 'Tagaytay City',\n",
       "       'Taguig City', 'Brasí_lia', 'Rio de Janeiro', 'Sí£o Paulo',\n",
       "       'Albany', 'Athens', 'Augusta', 'Boise', 'Cedar Rapids/Iowa City',\n",
       "       'Clatskanie', 'Cochrane', 'Columbus', 'Dalton', 'Davenport',\n",
       "       'Des Moines', 'Dubuque', 'Fernley', 'Gainesville', 'Lakeview',\n",
       "       'Lincoln', 'Macon', 'Mc Millan', 'Miller', 'Monroe',\n",
       "       'Ojo Caliente', 'Orlando', 'Pensacola', 'Pocatello', 'Potrero',\n",
       "       'Princeton', 'Rest of Hawaii', 'Savannah', 'Sioux City',\n",
       "       'Tampa Bay', 'Valdosta', 'Vernonia', 'Waterloo', 'Weirton',\n",
       "       'Winchester Bay', 'Armidale', 'Balingup', 'Beechworth',\n",
       "       'Dicky Beach', 'East Ballina', 'Flaxton', 'Forrest',\n",
       "       'Hepburn Springs', 'Huskisson', 'Inverloch', 'Lakes Entrance',\n",
       "       'Lorn', 'Macedon', 'Mayfield', 'Middleton Beach', 'Montville',\n",
       "       'Palm Cove', 'Paynesville', 'Penola', 'Phillip Island', 'Tanunda',\n",
       "       'Trentham East', 'Victor Harbor', 'Chatham-Kent', 'Consort',\n",
       "       'Vineland Station', 'Yorkton', 'Singapore', 'Abu Dhabi', 'Dubai',\n",
       "       'Sharjah', 'Agra', 'Ahmedabad', 'Allahabad', 'Amritsar',\n",
       "       'Aurangabad', 'Bangalore', 'Bhopal', 'Bhubaneshwar', 'Chandigarh',\n",
       "       'Chennai', 'Coimbatore', 'Dehradun', 'Faridabad', 'Ghaziabad',\n",
       "       'Goa', 'Gurgaon', 'Guwahati', 'Hyderabad', 'Indore', 'Jaipur',\n",
       "       'Kanpur', 'Kochi', 'Kolkata', 'Lucknow', 'Ludhiana', 'Mangalore',\n",
       "       'Mohali', 'Mumbai', 'Mysore', 'Nagpur', 'Nashik', 'New Delhi',\n",
       "       'Noida', 'Panchkula', 'Patna', 'Puducherry', 'Pune', 'Ranchi',\n",
       "       'Secunderabad', 'Surat', 'Vadodara', 'Varanasi', 'Vizag',\n",
       "       'Bandung', 'Bogor', 'Jakarta', 'Tangerang', 'Auckland',\n",
       "       'Wellington City', 'Birmingham', 'Edinburgh', 'London',\n",
       "       'Manchester', 'Doha', 'Cape Town', 'Inner City', 'Johannesburg',\n",
       "       'Pretoria', 'Randburg', 'Sandton', 'Colombo', 'Ankara',\n",
       "       'ÛÁstanbul'], dtype=object)"
      ]
     },
     "execution_count": 6,
     "metadata": {},
     "output_type": "execute_result"
    }
   ],
   "source": [
    "df1['City'].unique()"
   ]
  },
  {
   "cell_type": "code",
   "execution_count": 7,
   "metadata": {},
   "outputs": [
    {
     "data": {
      "text/plain": [
       "New Delhi    5473\n",
       "Gurgaon      1118\n",
       "Noida        1080\n",
       "Faridabad     251\n",
       "Ghaziabad      25\n",
       "Name: City, dtype: int64"
      ]
     },
     "execution_count": 7,
     "metadata": {},
     "output_type": "execute_result"
    }
   ],
   "source": [
    "df1['City'].value_counts().head(5)"
   ]
  },
  {
   "cell_type": "markdown",
   "metadata": {
    "_uuid": "e353e1ba46c2f601a15c0b2022e8b0f1876f8d72"
   },
   "source": [
    "Какие типы кухни подают в ресторанах? Как связан этот признак с рейтингом? Не забывайте о визуализации информации."
   ]
  },
  {
   "cell_type": "code",
   "execution_count": 8,
   "metadata": {},
   "outputs": [
    {
     "data": {
      "text/plain": [
       "<Figure size 720x576 with 0 Axes>"
      ]
     },
     "execution_count": 8,
     "metadata": {},
     "output_type": "execute_result"
    },
    {
     "data": {
      "image/png": "[encoded data removed]",
      "text/plain": [
       "<Figure size 360x360 with 1 Axes>"
      ]
     },
     "metadata": {},
     "output_type": "display_data"
    },
    {
     "data": {
      "text/plain": [
       "<Figure size 720x576 with 0 Axes>"
      ]
     },
     "metadata": {},
     "output_type": "display_data"
    }
   ],
   "source": [
    "df1.groupby('Cuisines')['Aggregate rating'].mean().plot.hist(orientation='vertical', color='pink', figsize=(5,5))\n",
    "plt.figure()"
   ]
  },
  {
   "cell_type": "markdown",
   "metadata": {
    "_uuid": "161fcd715da2816445c1c9c2af557b563c072b5c"
   },
   "source": [
    "Plot the aggreigate rating of the dataframe"
   ]
  },
  {
   "cell_type": "code",
   "execution_count": 9,
   "metadata": {
    "_uuid": "1b4df089ff9056ead8c19ac61cc1afa2d3fe04ed"
   },
   "outputs": [
    {
     "data": {
      "image/png": "[encoded data removed]",
      "text/plain": [
       "<Figure size 720x720 with 1 Axes>"
      ]
     },
     "metadata": {},
     "output_type": "display_data"
    },
    {
     "data": {
      "text/plain": [
       "<Figure size 720x576 with 0 Axes>"
      ]
     },
     "metadata": {},
     "output_type": "display_data"
    }
   ],
   "source": [
    "df1.groupby('Aggregate rating')['Average Cost for two'].mean().plot(kind='bar', figsize=(10,10), color='blue')\n",
    "plt.xlabel('Aggregate rating', color='g')\n",
    "plt.ylabel('Average Cost for two', color='g')\n",
    "plt.figure();"
   ]
  },
  {
   "cell_type": "markdown",
   "metadata": {},
   "source": [
    "Print the average number of the restaurant have table booking service or not"
   ]
  },
  {
   "cell_type": "code",
   "execution_count": 10,
   "metadata": {
    "_uuid": "ce1ece7eb37d65bff6d91a383f2630a0474b4ebe"
   },
   "outputs": [
    {
     "name": "stdout",
     "output_type": "stream",
     "text": [
      "Has table booking =  3.4419689119170984\n",
      "Hasn`t table booking=  2.559358989634219\n"
     ]
    }
   ],
   "source": [
    "print('Has table booking = ', df1[df1['Has Table booking']=='Yes']['Aggregate rating'].mean())\n",
    "print('Hasn`t table booking= ', df1[df1['Has Table booking']=='No']['Aggregate rating'].mean())"
   ]
  },
  {
   "cell_type": "markdown",
   "metadata": {},
   "source": [
    "Plot the rating"
   ]
  },
  {
   "cell_type": "code",
   "execution_count": 11,
   "metadata": {},
   "outputs": [
    {
     "data": {
      "image/png": "[encoded data removed]",
      "text/plain": [
       "<Figure size 360x360 with 1 Axes>"
      ]
     },
     "metadata": {},
     "output_type": "display_data"
    },
    {
     "data": {
      "text/plain": [
       "<Figure size 720x576 with 0 Axes>"
      ]
     },
     "metadata": {},
     "output_type": "display_data"
    }
   ],
   "source": [
    "df1.groupby('Has Table booking')['Aggregate rating'].mean().plot(kind='bar', color='pink', figsize=(5,5))\n",
    "plt.xlabel('Has Table Booking', color='grey')\n",
    "plt.ylabel('Aggregate rating', color='grey') \n",
    "plt.figure();"
   ]
  },
  {
   "cell_type": "markdown",
   "metadata": {},
   "source": [
    "# Вывод:\n",
    "Различия в рейтинге ресторанов существенно зависит от бронирования столиков. Заведения, где приветствуется бронирование, находятся в приоритете среди посетителей."
   ]
  },
  {
   "cell_type": "markdown",
   "metadata": {
    "_uuid": "85d654db310e21b3af6b5300150a34602807f1ec"
   },
   "source": [
    "Визуализируйте признак **Rating color** (или **Rating text**) в комбинации с геолокацией (**Longitude**, **Latitude**). Какой вывод можно сделать?"
   ]
  },
  {
   "cell_type": "code",
   "execution_count": 12,
   "metadata": {
    "_uuid": "9f3060e873f51cbe47be40737490264eb3c1a68a"
   },
   "outputs": [
    {
     "data": {
      "image/png": "[encoded data removed]",
      "text/plain": [
       "<Figure size 360x360 with 1 Axes>"
      ]
     },
     "metadata": {},
     "output_type": "display_data"
    },
    {
     "data": {
      "text/plain": [
       "<Figure size 720x576 with 0 Axes>"
      ]
     },
     "metadata": {},
     "output_type": "display_data"
    }
   ],
   "source": [
    "df1.groupby('Rating text')['Longitude', 'Latitude'].mean().plot(kind='bar', figsize=(5,5))\n",
    "plt.figure();"
   ]
  },
  {
   "cell_type": "markdown",
   "metadata": {
    "_uuid": "aa25200b3a3c6ae6cee8dfc88ca7e4927abeedf4"
   },
   "source": [
    "Какие ещё инсайты можно найти в имеющихся данных? Творческое задание."
   ]
  },
  {
   "cell_type": "markdown",
   "metadata": {},
   "source": [
    "Посмотрим, какие рестораны входят в топ-5."
   ]
  },
  {
   "cell_type": "code",
   "execution_count": 13,
   "metadata": {},
   "outputs": [
    {
     "data": {
      "text/plain": [
       "Cafe Coffee Day     83\n",
       "Domino's Pizza      79\n",
       "Subway              63\n",
       "Green Chick Chop    51\n",
       "McDonald's          48\n",
       "Name: Restaurant Name, dtype: int64"
      ]
     },
     "execution_count": 13,
     "metadata": {},
     "output_type": "execute_result"
    }
   ],
   "source": [
    "df1['Restaurant Name'].value_counts().head(5)"
   ]
  },
  {
   "cell_type": "markdown",
   "metadata": {},
   "source": [
    "Построим график."
   ]
  },
  {
   "cell_type": "code",
   "execution_count": 14,
   "metadata": {},
   "outputs": [
    {
     "data": {
      "text/plain": [
       "<Figure size 720x576 with 0 Axes>"
      ]
     },
     "execution_count": 14,
     "metadata": {},
     "output_type": "execute_result"
    },
    {
     "data": {
      "image/png": "[encoded data removed]",
      "text/plain": [
       "<Figure size 720x720 with 1 Axes>"
      ]
     },
     "metadata": {},
     "output_type": "display_data"
    },
    {
     "data": {
      "text/plain": [
       "<Figure size 720x576 with 0 Axes>"
      ]
     },
     "metadata": {},
     "output_type": "display_data"
    }
   ],
   "source": [
    "df1['Restaurant Name'].value_counts().head(5).plot(kind='bar', color='black', figsize=(10,10))\n",
    "plt.xlabel('Name of restaurant', color='g')\n",
    "plt.ylabel('Amount of each restaurant', color='g')\n",
    "plt.figure()"
   ]
  },
  {
   "cell_type": "markdown",
   "metadata": {},
   "source": [
    "Отсортируем кухни по популярности."
   ]
  },
  {
   "cell_type": "code",
   "execution_count": 15,
   "metadata": {},
   "outputs": [
    {
     "data": {
      "text/plain": [
       "North Indian                                                                      936\n",
       "North Indian, Chinese                                                             511\n",
       "Chinese                                                                           354\n",
       "Fast Food                                                                         354\n",
       "North Indian, Mughlai                                                             334\n",
       "Cafe                                                                              299\n",
       "Bakery                                                                            218\n",
       "North Indian, Mughlai, Chinese                                                    197\n",
       "Bakery, Desserts                                                                  170\n",
       "Street Food                                                                       149\n",
       "Pizza, Fast Food                                                                  131\n",
       "Chinese, Fast Food                                                                118\n",
       "Mithai, Street Food                                                               116\n",
       "South Indian                                                                      112\n",
       "Bakery, Fast Food                                                                 108\n",
       "Chinese, North Indian                                                             105\n",
       "Mughlai                                                                           103\n",
       "Ice Cream, Desserts                                                                83\n",
       "North Indian, Fast Food                                                            74\n",
       "Ice Cream                                                                          74\n",
       "Mithai                                                                             71\n",
       "North Indian, Chinese, Mughlai                                                     70\n",
       "North Indian, Chinese, Fast Food                                                   68\n",
       "North Indian, Chinese, Continental                                                 65\n",
       "Bakery, Desserts, Fast Food                                                        63\n",
       "American, Fast Food, Salad, Healthy Food                                           62\n",
       "Mughlai, North Indian                                                              60\n",
       "Fast Food, Burger                                                                  56\n",
       "Beverages                                                                          54\n",
       "Italian                                                                            54\n",
       "                                                                                 ... \n",
       "North Indian, Continental, Italian, Asian                                           1\n",
       "European, Pizza                                                                     1\n",
       "Sushi, Teriyaki                                                                     1\n",
       "Cafe, Tapas, South African, Beverages, Healthy Food, Desserts, Spanish              1\n",
       "Western, Fusion, Fast Food                                                          1\n",
       "Continental, Italian, American                                                      1\n",
       "Fast Food, South Indian, Mithai                                                     1\n",
       "Cafe, Fast Food, Chinese                                                            1\n",
       "Asian, Sushi, Tapas                                                                 1\n",
       "North Indian, Chinese, South Indian, Street Food, Mithai                            1\n",
       "Hyderabadi, Awadhi                                                                  1\n",
       "Asian, Burmese                                                                      1\n",
       "Pizza, Desserts                                                                     1\n",
       "Afghani, Mughlai, Chinese                                                           1\n",
       "Cuisine Varies                                                                      1\n",
       "Japanese, Steak                                                                     1\n",
       "Finger Food, Continental, North Indian                                              1\n",
       "Italian, Continental, Fast Food, North Indian                                       1\n",
       "Coffee and Tea, Modern Australian                                                   1\n",
       "American, Seafood, Sushi                                                            1\n",
       "Ice Cream, Street Food                                                              1\n",
       "Cafe, Chinese, North Indian                                                         1\n",
       "Thai, Chinese, Asian, Malaysian                                                     1\n",
       "North Indian, South Indian, Fast Food, Street Food, Chinese, Beverages, Mithai      1\n",
       "Chinese, Pizza                                                                      1\n",
       "Singaporean, Chinese, Seafood, Malay, Indian                                        1\n",
       "American, Sandwich, Tea                                                             1\n",
       "North Indian, South Indian, Bihari                                                  1\n",
       "Arabian, North Indian                                                               1\n",
       "Italian, Mexican, Mediterranean                                                     1\n",
       "Name: Cuisines, Length: 1825, dtype: int64"
      ]
     },
     "execution_count": 15,
     "metadata": {},
     "output_type": "execute_result"
    }
   ],
   "source": [
    "df1['Cuisines'].value_counts()"
   ]
  },
  {
   "cell_type": "markdown",
   "metadata": {},
   "source": [
    "Построим график."
   ]
  },
  {
   "cell_type": "code",
   "execution_count": 16,
   "metadata": {},
   "outputs": [
    {
     "data": {
      "text/plain": [
       "<Figure size 720x576 with 0 Axes>"
      ]
     },
     "execution_count": 16,
     "metadata": {},
     "output_type": "execute_result"
    },
    {
     "data": {
      "image/png": "[encoded data removed]",
      "text/plain": [
       "<Figure size 720x720 with 1 Axes>"
      ]
     },
     "metadata": {},
     "output_type": "display_data"
    },
    {
     "data": {
      "text/plain": [
       "<Figure size 720x576 with 0 Axes>"
      ]
     },
     "metadata": {},
     "output_type": "display_data"
    }
   ],
   "source": [
    "df1['Cuisines'].value_counts().head(10).plot(kind='bar', figsize = (10,10), color='black')\n",
    "plt.xlabel('Popularity of cuisines')\n",
    "plt.figure()"
   ]
  },
  {
   "cell_type": "code",
   "execution_count": 2,
   "metadata": {},
   "outputs": [],
   "source": [
    "res = pd.read_csv(\"data/zomato.csv\",encoding=\"ISO-8859-1\")\n",
    "country = pd.read_csv('data/Country-Code.csv')"
   ]
  },
  {
   "cell_type": "code",
   "execution_count": 17,
   "metadata": {},
   "outputs": [
    {
     "data": {
      "text/plain": [
       "Index(['Restaurant ID', 'Restaurant Name', 'Country Code', 'City', 'Address',\n",
       "       'Locality', 'Locality Verbose', 'Longitude', 'Latitude', 'Cuisines',\n",
       "       'Average Cost for two', 'Currency', 'Has Table booking',\n",
       "       'Has Online delivery', 'Is delivering now', 'Switch to order menu',\n",
       "       'Price range', 'Aggregate rating', 'Rating color', 'Rating text',\n",
       "       'Votes'],\n",
       "      dtype='object')"
      ]
     },
     "execution_count": 17,
     "metadata": {},
     "output_type": "execute_result"
    }
   ],
   "source": [
    "res.columns  "
   ]
  },
  {
   "cell_type": "code",
   "execution_count": 19,
   "metadata": {},
   "outputs": [
    {
     "data": {
      "text/plain": [
       "Index(['Country Code', 'Country'], dtype='object')"
      ]
     },
     "execution_count": 19,
     "metadata": {},
     "output_type": "execute_result"
    }
   ],
   "source": [
    "country.columns"
   ]
  },
  {
   "cell_type": "code",
   "execution_count": 22,
   "metadata": {},
   "outputs": [
    {
     "data": {
      "text/plain": [
       "array(['India', 'Australia', 'Brazil', 'Canada', 'Indonesia',\n",
       "       'New Zealand', 'Phillipines', 'Qatar', 'Singapore', 'South Africa',\n",
       "       'Sri Lanka', 'Turkey', 'UAE', 'United Kingdom', 'United States'],\n",
       "      dtype=object)"
      ]
     },
     "execution_count": 22,
     "metadata": {},
     "output_type": "execute_result"
    }
   ],
   "source": [
    "country['Country'].unique()"
   ]
  },
  {
   "cell_type": "code",
   "execution_count": 24,
   "metadata": {},
   "outputs": [
    {
     "data": {
      "text/plain": [
       "0    1\n",
       "Name: Country Code, dtype: int64"
      ]
     },
     "execution_count": 24,
     "metadata": {},
     "output_type": "execute_result"
    }
   ],
   "source": [
    "country[country['Country'] == 'India']['Country Code']"
   ]
  },
  {
   "cell_type": "code",
   "execution_count": 3,
   "metadata": {},
   "outputs": [
    {
     "data": {
      "text/plain": [
       "array(['Makati City', 'Mandaluyong City', 'Pasay City', 'Pasig City',\n",
       "       'Quezon City', 'San Juan City', 'Santa Rosa', 'Tagaytay City',\n",
       "       'Taguig City', 'Brasí_lia', 'Rio de Janeiro', 'Sí£o Paulo',\n",
       "       'Albany', 'Armidale', 'Athens', 'Augusta', 'Balingup',\n",
       "       'Beechworth', 'Boise', 'Cedar Rapids/Iowa City', 'Chatham-Kent',\n",
       "       'Clatskanie', 'Cochrane', 'Columbus', 'Consort', 'Dalton',\n",
       "       'Davenport', 'Des Moines', 'Dicky Beach', 'Dubuque',\n",
       "       'East Ballina', 'Fernley', 'Flaxton', 'Forrest', 'Gainesville',\n",
       "       'Hepburn Springs', 'Huskisson', 'Inverloch', 'Lakes Entrance',\n",
       "       'Lakeview', 'Lincoln', 'Lorn', 'Macedon', 'Macon', 'Mayfield',\n",
       "       'Mc Millan', 'Middleton Beach', 'Miller', 'Monroe', 'Montville',\n",
       "       'Ojo Caliente', 'Orlando', 'Palm Cove', 'Paynesville', 'Penola',\n",
       "       'Pensacola', 'Phillip Island', 'Pocatello', 'Potrero', 'Princeton',\n",
       "       'Rest of Hawaii', 'Savannah', 'Singapore', 'Sioux City',\n",
       "       'Tampa Bay', 'Tanunda', 'Trentham East', 'Valdosta', 'Vernonia',\n",
       "       'Victor Harbor', 'Vineland Station', 'Waterloo', 'Weirton',\n",
       "       'Winchester Bay', 'Yorkton', 'Abu Dhabi', 'Dubai', 'Sharjah',\n",
       "       'Agra', 'Ahmedabad', 'Allahabad', 'Amritsar', 'Aurangabad',\n",
       "       'Bangalore', 'Bhopal', 'Bhubaneshwar', 'Chandigarh', 'Chennai',\n",
       "       'Coimbatore', 'Dehradun', 'Faridabad', 'Ghaziabad', 'Goa',\n",
       "       'Gurgaon', 'Guwahati', 'Hyderabad', 'Indore', 'Jaipur', 'Kanpur',\n",
       "       'Kochi', 'Kolkata', 'Lucknow', 'Ludhiana', 'Mangalore', 'Mohali',\n",
       "       'Mumbai', 'Mysore', 'Nagpur', 'Nashik', 'New Delhi', 'Noida',\n",
       "       'Panchkula', 'Patna', 'Puducherry', 'Pune', 'Ranchi',\n",
       "       'Secunderabad', 'Surat', 'Vadodara', 'Varanasi', 'Vizag',\n",
       "       'Bandung', 'Bogor', 'Jakarta', 'Tangerang', 'Auckland',\n",
       "       'Wellington City', 'Birmingham', 'Edinburgh', 'London',\n",
       "       'Manchester', 'Doha', 'Cape Town', 'Inner City', 'Johannesburg',\n",
       "       'Pretoria', 'Randburg', 'Sandton', 'Colombo', 'Ankara',\n",
       "       'ÛÁstanbul'], dtype=object)"
      ]
     },
     "execution_count": 3,
     "metadata": {},
     "output_type": "execute_result"
    }
   ],
   "source": [
    "res['City'].unique()"
   ]
  },
  {
   "cell_type": "code",
   "execution_count": null,
   "metadata": {},
   "outputs": [],
   "source": []
  }
 ],
 "metadata": {
  "kernelspec": {
   "display_name": "Python 3",
   "language": "python",
   "name": "python3"
  },
  "language_info": {
   "codemirror_mode": {
    "name": "ipython",
    "version": 3
   },
   "file_extension": ".py",
   "mimetype": "text/x-python",
   "name": "python",
   "nbconvert_exporter": "python",
   "pygments_lexer": "ipython3",
   "version": "3.7.6"
  }
 },
 "nbformat": 4,
 "nbformat_minor": 4
}
