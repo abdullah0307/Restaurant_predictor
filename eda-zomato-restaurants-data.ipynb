{
 "cells": [
  {
   "cell_type": "markdown",
   "metadata": {
    "_uuid": "5c1cf98b27027fbb3e184bcb33f00f68e451fde1"
   },
   "source": [
    "Importing Libraries"
   ]
  },
  {
   "cell_type": "code",
   "execution_count": null,
   "metadata": {
    "_cell_guid": "79c7e3d0-c299-4dcb-8224-4455121ee9b0",
    "_uuid": "d629ff2d2480ee46fbb7e2d37f6b5fab8052498a"
   },
   "outputs": [],
   "source": [
    "import numpy as np\n",
    "import pandas as pd\n",
    "import matplotlib\n",
    "import matplotlib.pyplot as plt\n",
    "import seaborn as sns\n",
    "sns.set(rc={'figure.figsize':(10, 8)}); "
   ]
  },
  {
   "cell_type": "markdown",
   "metadata": {
    "_uuid": "0e1d693518697c69207ab79b1d92da9ba4e4300e"
   },
   "source": [
    "Loading the dataset"
   ]
  },
  {
   "cell_type": "code",
   "execution_count": null,
   "metadata": {
    "_uuid": "0e3d97c1c797a6cc483e548ae057e70d043a8aa0"
   },
   "outputs": [],
   "source": [
    "df = pd.read_csv('data/zomato.csv',encoding=\"ISO-8859-1\")\n",
    "code_of_country = pd.read_csv('data/Country-Code.csv',encoding = \"ISO-8859-1\")\n",
    "df1 = pd.merge(df, code_of_country, on='Country Code')\n",
    "df1.head(10).T"
   ]
  },
  {
   "cell_type": "markdown",
   "metadata": {},
   "source": [
    "Total Countries in the dataset"
   ]
  },
  {
   "cell_type": "code",
   "execution_count": null,
   "metadata": {},
   "outputs": [],
   "source": [
    "df1['Country'].unique()"
   ]
  },
  {
   "cell_type": "markdown",
   "metadata": {},
   "source": [
    "Counts of all the countries"
   ]
  },
  {
   "cell_type": "code",
   "execution_count": null,
   "metadata": {},
   "outputs": [],
   "source": [
    "df1['Country'].value_counts().head(5)"
   ]
  },
  {
   "cell_type": "markdown",
   "metadata": {},
   "source": [
    "Count of all the Cities"
   ]
  },
  {
   "cell_type": "code",
   "execution_count": null,
   "metadata": {},
   "outputs": [],
   "source": [
    "df1['City'].unique()"
   ]
  },
  {
   "cell_type": "code",
   "execution_count": null,
   "metadata": {},
   "outputs": [],
   "source": [
    "df1['City'].value_counts().head(5)"
   ]
  },
  {
   "cell_type": "markdown",
   "metadata": {
    "_uuid": "e353e1ba46c2f601a15c0b2022e8b0f1876f8d72"
   },
   "source": [
    "Какие типы кухни подают в ресторанах? Как связан этот признак с рейтингом? Не забывайте о визуализации информации."
   ]
  },
  {
   "cell_type": "code",
   "execution_count": null,
   "metadata": {},
   "outputs": [],
   "source": [
    "df1.groupby('Cuisines')['Aggregate rating'].mean().plot.hist(orientation='vertical', color='pink', figsize=(5,5))\n",
    "plt.figure()"
   ]
  },
  {
   "cell_type": "markdown",
   "metadata": {
    "_uuid": "161fcd715da2816445c1c9c2af557b563c072b5c"
   },
   "source": [
    "Plot the aggreigate rating of the dataframe"
   ]
  },
  {
   "cell_type": "code",
   "execution_count": null,
   "metadata": {
    "_uuid": "1b4df089ff9056ead8c19ac61cc1afa2d3fe04ed"
   },
   "outputs": [],
   "source": [
    "df1.groupby('Aggregate rating')['Average Cost for two'].mean().plot(kind='bar', figsize=(10,10), color='blue')\n",
    "plt.xlabel('Aggregate rating', color='g')\n",
    "plt.ylabel('Average Cost for two', color='g')\n",
    "plt.figure();"
   ]
  },
  {
   "cell_type": "markdown",
   "metadata": {},
   "source": [
    "Print the average number of the restaurant have table booking service or not"
   ]
  },
  {
   "cell_type": "code",
   "execution_count": null,
   "metadata": {
    "_uuid": "ce1ece7eb37d65bff6d91a383f2630a0474b4ebe"
   },
   "outputs": [],
   "source": [
    "print('Has table booking = ', df1[df1['Has Table booking']=='Yes']['Aggregate rating'].mean())\n",
    "print('Hasn`t table booking= ', df1[df1['Has Table booking']=='No']['Aggregate rating'].mean())"
   ]
  },
  {
   "cell_type": "markdown",
   "metadata": {},
   "source": [
    "Plot the rating"
   ]
  },
  {
   "cell_type": "code",
   "execution_count": null,
   "metadata": {},
   "outputs": [],
   "source": [
    "df1.groupby('Has Table booking')['Aggregate rating'].mean().plot(kind='bar', color='pink', figsize=(5,5))\n",
    "plt.xlabel('Has Table Booking', color='grey')\n",
    "plt.ylabel('Aggregate rating', color='grey') \n",
    "plt.figure();"
   ]
  },
  {
   "cell_type": "code",
   "execution_count": null,
   "metadata": {
    "_uuid": "9f3060e873f51cbe47be40737490264eb3c1a68a"
   },
   "outputs": [],
   "source": [
    "df1.groupby('Rating text')['Longitude', 'Latitude'].mean().plot(kind='bar', figsize=(5,5))\n",
    "plt.figure();"
   ]
  },
  {
   "cell_type": "code",
   "execution_count": null,
   "metadata": {},
   "outputs": [],
   "source": [
    "df1['Restaurant Name'].value_counts().head(5)"
   ]
  },
  {
   "cell_type": "markdown",
   "metadata": {},
   "source": [
    "Построим график."
   ]
  },
  {
   "cell_type": "code",
   "execution_count": null,
   "metadata": {},
   "outputs": [],
   "source": [
    "df1['Restaurant Name'].value_counts().head(5).plot(kind='bar', color='black', figsize=(10,10))\n",
    "plt.xlabel('Name of restaurant', color='g')\n",
    "plt.ylabel('Amount of each restaurant', color='g')\n",
    "plt.figure()"
   ]
  },
  {
   "cell_type": "markdown",
   "metadata": {},
   "source": [
    "Отсортируем кухни по популярности."
   ]
  },
  {
   "cell_type": "code",
   "execution_count": null,
   "metadata": {},
   "outputs": [],
   "source": [
    "df1['Cuisines'].value_counts().head(30)"
   ]
  },
  {
   "cell_type": "markdown",
   "metadata": {},
   "source": [
    "Построим график."
   ]
  },
  {
   "cell_type": "code",
   "execution_count": null,
   "metadata": {},
   "outputs": [],
   "source": [
    "df1['Cuisines'].value_counts().head(10).plot(kind='bar', figsize = (10,10), color='black')\n",
    "plt.xlabel('Popularity of cuisines')\n",
    "plt.figure()"
   ]
  },
  {
   "cell_type": "code",
   "execution_count": 2,
   "metadata": {},
   "outputs": [],
   "source": [
    "import pandas as pd\n",
    "res = pd.read_csv(\"data/zomato.csv\",encoding=\"ISO-8859-1\")\n",
    "country = pd.read_csv('data/Country-Code.csv')"
   ]
  },
  {
   "cell_type": "code",
   "execution_count": 3,
   "metadata": {},
   "outputs": [],
   "source": [
    "Features = ['City', 'Cuisines', 'Average_Cost_for_two', 'Currency', 'Has_Online_delivery','Has_Table_booking']"
   ]
  },
  {
   "cell_type": "code",
   "execution_count": null,
   "metadata": {},
   "outputs": [],
   "source": [
    "for i in Features:\n",
    "    if len(res[i].unique()) == 1:\n",
    "        break\n",
    "    option = input(res[i].unique())\n",
    "    res = res[res[i] == option]  \n",
    "    print(res)"
   ]
  },
  {
   "cell_type": "code",
   "execution_count": null,
   "metadata": {},
   "outputs": [],
   "source": [
    "res[res['City'] == 'Athens']"
   ]
  },
  {
   "cell_type": "code",
   "execution_count": null,
   "metadata": {},
   "outputs": [],
   "source": [
    "res[Features[0]].unique()"
   ]
  },
  {
   "cell_type": "code",
   "execution_count": 6,
   "metadata": {},
   "outputs": [
    {
     "data": {
      "text/plain": [
       "Index(['Restaurant_ID', 'Restaurant_Name', 'Country_Code', 'City', 'Address',\n",
       "       'Locality', 'Locality_Verbose', 'Longitude', 'Latitude', 'Cuisines',\n",
       "       'Average_Cost_for_two', 'Currency', 'Has_Table_booking',\n",
       "       'Has_Online_delivery', 'Is_delivering now', 'Switch_to_order_menu',\n",
       "       'Price_range', 'Aggregate_rating', 'Rating_color', 'Rating_text',\n",
       "       'Votes'],\n",
       "      dtype='object')"
      ]
     },
     "execution_count": 6,
     "metadata": {},
     "output_type": "execute_result"
    }
   ],
   "source": [
    "res.columns"
   ]
  },
  {
   "cell_type": "code",
   "execution_count": null,
   "metadata": {},
   "outputs": [],
   "source": []
  }
 ],
 "metadata": {
  "kernelspec": {
   "display_name": "Python 3",
   "language": "python",
   "name": "python3"
  },
  "language_info": {
   "codemirror_mode": {
    "name": "ipython",
    "version": 3
   },
   "file_extension": ".py",
   "mimetype": "text/x-python",
   "name": "python",
   "nbconvert_exporter": "python",
   "pygments_lexer": "ipython3",
   "version": "3.7.6"
  }
 },
 "nbformat": 4,
 "nbformat_minor": 4
}
